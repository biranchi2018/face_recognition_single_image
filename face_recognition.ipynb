{
  "nbformat": 4,
  "nbformat_minor": 0,
  "metadata": {
    "colab": {
      "name": "face_recognition.ipynb",
      "version": "0.3.2",
      "provenance": [],
      "collapsed_sections": [],
      "include_colab_link": true
    },
    "kernelspec": {
      "name": "python3",
      "display_name": "Python 3"
    },
    "accelerator": "GPU"
  },
  "cells": [
    {
      "cell_type": "markdown",
      "metadata": {
        "id": "view-in-github",
        "colab_type": "text"
      },
      "source": [
        "<a href=\"https://colab.research.google.com/github/biranchi2018/face_recognition_single_image/blob/master/face_recognition.ipynb\" target=\"_parent\"><img src=\"https://colab.research.google.com/assets/colab-badge.svg\" alt=\"Open In Colab\"/></a>"
      ]
    },
    {
      "metadata": {
        "id": "8jrMn335wvdO",
        "colab_type": "code",
        "colab": {
          "base_uri": "https://localhost:8080/",
          "height": 309
        },
        "outputId": "023e9c33-d5b6-482a-9ae6-51a4f7110a96"
      },
      "cell_type": "code",
      "source": [
        "!pip3 install face_recognition"
      ],
      "execution_count": 2,
      "outputs": [
        {
          "output_type": "stream",
          "text": [
            "Collecting face_recognition\n",
            "  Downloading https://files.pythonhosted.org/packages/3f/ed/ad9a28042f373d4633fc8b49109b623597d6f193d3bbbef7780a5ee8eef2/face_recognition-1.2.3-py2.py3-none-any.whl\n",
            "Requirement already satisfied: numpy in /usr/local/lib/python3.6/dist-packages (from face_recognition) (1.14.6)\n",
            "Requirement already satisfied: Pillow in /usr/local/lib/python3.6/dist-packages (from face_recognition) (4.0.0)\n",
            "Requirement already satisfied: dlib>=19.7 in /usr/local/lib/python3.6/dist-packages (from face_recognition) (19.16.0)\n",
            "Requirement already satisfied: Click>=6.0 in /usr/local/lib/python3.6/dist-packages (from face_recognition) (7.0)\n",
            "Collecting face-recognition-models>=0.3.0 (from face_recognition)\n",
            "\u001b[?25l  Downloading https://files.pythonhosted.org/packages/cf/3b/4fd8c534f6c0d1b80ce0973d01331525538045084c73c153ee6df20224cf/face_recognition_models-0.3.0.tar.gz (100.1MB)\n",
            "\u001b[K    100% |████████████████████████████████| 100.2MB 305kB/s \n",
            "\u001b[?25hRequirement already satisfied: olefile in /usr/local/lib/python3.6/dist-packages (from Pillow->face_recognition) (0.46)\n",
            "Building wheels for collected packages: face-recognition-models\n",
            "  Building wheel for face-recognition-models (setup.py) ... \u001b[?25ldone\n",
            "\u001b[?25h  Stored in directory: /root/.cache/pip/wheels/d2/99/18/59c6c8f01e39810415c0e63f5bede7d83dfb0ffc039865465f\n",
            "Successfully built face-recognition-models\n",
            "Installing collected packages: face-recognition-models, face-recognition\n",
            "Successfully installed face-recognition-1.2.3 face-recognition-models-0.3.0\n"
          ],
          "name": "stdout"
        }
      ]
    },
    {
      "metadata": {
        "id": "2LbTYGDww5VI",
        "colab_type": "code",
        "colab": {}
      },
      "cell_type": "code",
      "source": [
        "import face_recognition\n",
        "import cv2\n",
        "import os\n",
        "import time\n",
        "import pickle\n",
        "import numpy as np\n",
        "import matplotlib.pyplot as plt\n",
        "%matplotlib inline"
      ],
      "execution_count": 0,
      "outputs": []
    },
    {
      "metadata": {
        "id": "JVV3B23Ywydh",
        "colab_type": "code",
        "colab": {}
      },
      "cell_type": "code",
      "source": [
        "# !ls"
      ],
      "execution_count": 0,
      "outputs": []
    },
    {
      "metadata": {
        "id": "dRToUKJsxbMn",
        "colab_type": "code",
        "colab": {
          "base_uri": "https://localhost:8080/",
          "height": 34
        },
        "outputId": "bffece11-f8e8-49a6-8262-1a4a53787e38"
      },
      "cell_type": "code",
      "source": [
        "cv2.__version__"
      ],
      "execution_count": 9,
      "outputs": [
        {
          "output_type": "execute_result",
          "data": {
            "text/plain": [
              "'3.4.3'"
            ]
          },
          "metadata": {
            "tags": []
          },
          "execution_count": 9
        }
      ]
    },
    {
      "metadata": {
        "id": "Oqrn_vhuxqBu",
        "colab_type": "code",
        "colab": {}
      },
      "cell_type": "code",
      "source": [
        "video_capture = cv2.VideoCapture(0)\n",
        "#length = int(video_capture.get(cv2.CAP_PROP_FRAME_COUNT))\n",
        "\n",
        "#video_capture.set(3,500)\n",
        "#video_capture.set(4,400)\n",
        "\n",
        "video_capture.set(3,800)\n",
        "video_capture.set(4,600)\n",
        "\n",
        "time.sleep(2)\n",
        "video_capture.set(15, -8.0)\n",
        "\n",
        "\n",
        "WINDOW_NAME = 'Face Recognition'\n",
        "# cv2.namedWindow(WINDOW_NAME,  cv2.WINDOW_AUTOSIZE)\n",
        "\n",
        "\n",
        "# \"\"\"\n",
        "#  Enable the below code to record and save in video file format \n",
        "# \"\"\"\n",
        "\n",
        "# Create an output movie file (make sure resolution/frame rate matches input video!)\n",
        "\n",
        "shouldRecord = False\t\t\t\t# Make it \"True\" to record and save\n",
        "\n",
        "if shouldRecord == True:\n",
        "\n",
        "\tscreen_width = int(video_capture.get(3))\n",
        "\tscreen_height = int(video_capture.get(4))\n",
        "\n",
        "\t# print(\"screen_width : \", screen_width)\n",
        "\t# print(\"screen_height : \", screen_height)\n",
        "\n",
        "\tresolution = (screen_width, screen_height)\n",
        "\tframeRate = 10.0\n",
        "\n",
        "\t# fourcc = cv2.VideoWriter_fourcc(*'XVID')\n",
        "\t# fourcc2 = cv2.VideoWriter_fourcc(*'MP4V')\n",
        "\tfourcc3 = cv2.VideoWriter_fourcc(*'H264')\n",
        "\n",
        "\n",
        "\t# out = cv2.VideoWriter('output.avi', fourcc, 20.0, (640,480))\n",
        "\tout = cv2.VideoWriter('output.mp4',fourcc3, frameRate, resolution)\n",
        "\n"
      ],
      "execution_count": 0,
      "outputs": []
    },
    {
      "metadata": {
        "id": "2GNceWmM0ebw",
        "colab_type": "code",
        "colab": {
          "base_uri": "https://localhost:8080/",
          "height": 54
        },
        "outputId": "e73feb90-28d4-415f-fdbd-e86264f52cb7"
      },
      "cell_type": "code",
      "source": [
        "faces_dataset = \"dataset_faces.dat\"\n",
        "known_faces = []\n",
        "known_face_names = []\n",
        "\n",
        "all_face_encodings = {}\n",
        "\n",
        "\"\"\"\n",
        "\t1. Create a folder called \"faces\" and put the image files inside it.\n",
        "\t2. Name the images as PersonName.jpg or PersonName.png\n",
        "\"\"\"\n"
      ],
      "execution_count": 11,
      "outputs": [
        {
          "output_type": "execute_result",
          "data": {
            "text/plain": [
              "'\\n\\t1. Create a folder called \"faces\" and put the image files inside it.\\n\\t2. Name the images as PersonName.jpg or PersonName.png\\n'"
            ]
          },
          "metadata": {
            "tags": []
          },
          "execution_count": 11
        }
      ]
    },
    {
      "metadata": {
        "id": "YbPubhCD2vQa",
        "colab_type": "code",
        "colab": {}
      },
      "cell_type": "code",
      "source": [
        "os.mkdir(\"faces\")"
      ],
      "execution_count": 0,
      "outputs": []
    },
    {
      "metadata": {
        "id": "IHqXLCXk0qfZ",
        "colab_type": "code",
        "colab": {
          "base_uri": "https://localhost:8080/",
          "height": 323
        },
        "outputId": "4f9fec62-8252-47e2-8e28-aeada6f2e95c"
      },
      "cell_type": "code",
      "source": [
        "if not os.path.isfile(faces_dataset):\n",
        "\n",
        "    files = os.listdir( os.path.join(os.getcwd(), \"faces\") )\n",
        "    # print(files)\n",
        "\n",
        "    for file_name in files:\n",
        "        \n",
        "        if file_name==\".DS_Store\":\n",
        "            continue\n",
        "\n",
        "        file_path = os.path.join(os.getcwd(), \"faces\", file_name)\n",
        "        #print(\"file_path : \" + file_path)\n",
        "        \n",
        "        photo = face_recognition.load_image_file(file_path)\n",
        "        # print(photo)\n",
        "        # print(\"Encoding : \")\n",
        "    #    print(file_name)\n",
        "    #    print(face_recognition.face_encodings(photo))\n",
        "\n",
        "        if len(face_recognition.face_encodings(photo)) > 0:\n",
        "            photo_encoding = face_recognition.face_encodings(photo)[0]\n",
        "            person_name = file_name.split(\".\")[0].capitalize()\n",
        "\n",
        "            known_faces.append(photo_encoding)\n",
        "            known_face_names.append(person_name)\n",
        "\n",
        "            \n",
        "            all_face_encodings[person_name] = photo_encoding\n",
        "            \n",
        "            print(str(files.index(file_name) + 1) + \".\" + person_name)\n",
        "\n",
        "\n",
        "    # print(\"\\nknown_face_names : \" + str(known_face_names))\n",
        "\n",
        "    with open('dataset_faces.dat', 'wb') as f:\n",
        "        pickle.dump(all_face_encodings, f)\n",
        "\n",
        "    #--------\n",
        "else:\n",
        "    # Load face encodings\n",
        "    with open('dataset_faces.dat', 'rb') as f:\n",
        "        all_face_encodings = pickle.load(f)\n",
        "\n",
        "    # Grab the list of names and the list of encodings\n",
        "    known_face_names = list(all_face_encodings.keys())\n",
        "    known_faces = np.array(list(all_face_encodings.values()))\n",
        "\n",
        "\n"
      ],
      "execution_count": 16,
      "outputs": [
        {
          "output_type": "stream",
          "text": [
            "1.Rinky\n",
            "2.Cyrus\n",
            "3.Amin\n",
            "4.Shaw\n",
            "5.Brad\n",
            "6.Biranchi\n",
            "7.Khairul\n",
            "8.Dan\n",
            "9.Xu jing\n",
            "10.Alex\n",
            "11.Anis\n",
            "12.Bernard\n",
            "13.Cynthia\n",
            "14.Stan\n",
            "15.Yasmine\n",
            "16.Sattian\n",
            "17.Gordona\n",
            "18.Deepan\n"
          ],
          "name": "stdout"
        }
      ]
    },
    {
      "metadata": {
        "id": "XCDYq1Zt7naN",
        "colab_type": "code",
        "colab": {}
      },
      "cell_type": "code",
      "source": [
        "from IPython.display import display, Javascript\n",
        "from google.colab.output import eval_js\n",
        "from base64 import b64decode\n",
        "\n",
        "def take_photo(filename='photo.jpg', quality=0.8):\n",
        "  js = Javascript('''\n",
        "    async function takePhoto(quality) {\n",
        "      const div = document.createElement('div');\n",
        "      const capture = document.createElement('button');\n",
        "      capture.textContent = 'Capture';\n",
        "      div.appendChild(capture);\n",
        "\n",
        "      const video = document.createElement('video');\n",
        "      video.style.display = 'block';\n",
        "      const stream = await navigator.mediaDevices.getUserMedia({video: true});\n",
        "\n",
        "      document.body.appendChild(div);\n",
        "      div.appendChild(video);\n",
        "      video.srcObject = stream;\n",
        "      await video.play();\n",
        "\n",
        "      // Resize the output to fit the video element.\n",
        "      google.colab.output.setIframeHeight(document.documentElement.scrollHeight, true);\n",
        "\n",
        "      // Wait for Capture to be clicked.\n",
        "      await new Promise((resolve) => capture.onclick = resolve);\n",
        "\n",
        "      const canvas = document.createElement('canvas');\n",
        "      canvas.width = video.videoWidth;\n",
        "      canvas.height = video.videoHeight;\n",
        "      canvas.getContext('2d').drawImage(video, 0, 0);\n",
        "      stream.getVideoTracks()[0].stop();\n",
        "      div.remove();\n",
        "      return canvas.toDataURL('image/jpeg', quality);\n",
        "    }\n",
        "    ''')\n",
        "  display(js)\n",
        "  data = eval_js('takePhoto({})'.format(quality))\n",
        "  binary = b64decode(data.split(',')[1])\n",
        "  with open(filename, 'wb') as f:\n",
        "    f.write(binary)\n",
        "  return filename"
      ],
      "execution_count": 0,
      "outputs": []
    },
    {
      "metadata": {
        "id": "0-DYElv37uU9",
        "colab_type": "code",
        "colab": {
          "base_uri": "https://localhost:8080/",
          "height": 531
        },
        "outputId": "f7a1a592-b208-4c3f-a1cc-918e5aeec586"
      },
      "cell_type": "code",
      "source": [
        "from IPython.display import Image\n",
        "try:\n",
        "  filename = take_photo()\n",
        "  print('Saved to {}'.format(filename))\n",
        "  \n",
        "  # Show the image which was just taken.\n",
        "  #display(Image(filename))\n",
        "  \n",
        "  # Initialize some variables\n",
        "  face_locations = []\n",
        "  face_encodings = []\n",
        "  face_names = []\n",
        "  frame_number = 0\n",
        "  \n",
        "  frame = cv2.imread(filename)\n",
        "  rgb_frame = frame[:, :, ::-1]\n",
        "  \n",
        "  face_locations = face_recognition.face_locations(rgb_frame)\n",
        "  face_encodings = face_recognition.face_encodings(rgb_frame, face_locations)\n",
        "\n",
        "  face_names = []\n",
        "  \n",
        "  for face_encoding in face_encodings:\n",
        "    \n",
        "    # See if the face is a match for the known face(s)\n",
        "    matches = face_recognition.compare_faces(known_faces, face_encoding, tolerance=0.50)\n",
        "\n",
        "    # print(\"match : \" + str(match))\n",
        "\n",
        "    # If you had more than 2 faces, you could make this logic a lot prettier\n",
        "    # but I kept it simple for the demo\n",
        "    name = \"Unknown\"\n",
        "\n",
        "    if True in matches:\n",
        "      first_match_index = matches.index(True)\n",
        "      name = known_face_names[first_match_index]\n",
        "      \n",
        "    face_names.append(name)\n",
        "      \n",
        "      \n",
        "  print(\"face_names : \", face_names)\n",
        "      \n",
        "  # Label the results\n",
        "  for (top, right, bottom, left), name in zip(face_locations, face_names):\n",
        "    if not name:\n",
        "      continue\n",
        "\n",
        "    # Draw a box around the face\n",
        "    cv2.rectangle(frame, (left, top), (right, bottom), (0, 0, 255), 2)\n",
        "\n",
        "    # Draw a label with a name above the face\n",
        "    cv2.rectangle(frame, (left, top - 15), (right, top + 15), (0, 0, 255), cv2.FILLED)\n",
        "    font = cv2.FONT_HERSHEY_DUPLEX\n",
        "    cv2.putText(frame, name, (left + 5, top + 3), font, 0.5, (255, 255, 255), 1)\n",
        "\n",
        "\n",
        "  detected_image = \"detected.jpg\"\n",
        "  cv2.imwrite(detected_image, frame)\n",
        "  display(Image(detected_image))\n",
        "\n",
        "  \n",
        " \n",
        "except Exception as err:\n",
        "  # Errors will be thrown if the user does not have a webcam or if they do not\n",
        "  # grant the page permission to access it.\n",
        "  print(str(err))"
      ],
      "execution_count": 31,
      "outputs": [
        {
          "output_type": "display_data",
          "data": {
            "application/javascript": [
              "\n",
              "    async function takePhoto(quality) {\n",
              "      const div = document.createElement('div');\n",
              "      const capture = document.createElement('button');\n",
              "      capture.textContent = 'Capture';\n",
              "      div.appendChild(capture);\n",
              "\n",
              "      const video = document.createElement('video');\n",
              "      video.style.display = 'block';\n",
              "      const stream = await navigator.mediaDevices.getUserMedia({video: true});\n",
              "\n",
              "      document.body.appendChild(div);\n",
              "      div.appendChild(video);\n",
              "      video.srcObject = stream;\n",
              "      await video.play();\n",
              "\n",
              "      // Resize the output to fit the video element.\n",
              "      google.colab.output.setIframeHeight(document.documentElement.scrollHeight, true);\n",
              "\n",
              "      // Wait for Capture to be clicked.\n",
              "      await new Promise((resolve) => capture.onclick = resolve);\n",
              "\n",
              "      const canvas = document.createElement('canvas');\n",
              "      canvas.width = video.videoWidth;\n",
              "      canvas.height = video.videoHeight;\n",
              "      canvas.getContext('2d').drawImage(video, 0, 0);\n",
              "      stream.getVideoTracks()[0].stop();\n",
              "      div.remove();\n",
              "      return canvas.toDataURL('image/jpeg', quality);\n",
              "    }\n",
              "    "
            ],
            "text/plain": [
              "<IPython.core.display.Javascript object>"
            ]
          },
          "metadata": {
            "tags": []
          }
        },
        {
          "output_type": "stream",
          "text": [
            "Saved to photo.jpg\n",
            "face_names :  ['Biranchi']\n"
          ],
          "name": "stdout"
        },
        {
          "output_type": "display_data",
          "data": {
            "image/jpeg": "[encoded data removed]",
            "text/plain": [
              "<IPython.core.display.Image object>"
            ]
          },
          "metadata": {
            "tags": []
          }
        }
      ]
    },
    {
      "metadata": {
        "id": "0eJiGcHL3fSV",
        "colab_type": "code",
        "colab": {}
      },
      "cell_type": "code",
      "source": [
        "# webcam = cv2.VideoCapture(0)\n",
        "# ret, frame = webcam.read()\n",
        "# print(ret)\n",
        "# webcam.release()"
      ],
      "execution_count": 0,
      "outputs": []
    },
    {
      "metadata": {
        "id": "3V8zn-Y94MkN",
        "colab_type": "code",
        "colab": {}
      },
      "cell_type": "code",
      "source": [
        ""
      ],
      "execution_count": 0,
      "outputs": []
    }
  ]
}